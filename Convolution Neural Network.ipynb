{
 "cells": [
  {
   "cell_type": "markdown",
   "id": "d7162f91",
   "metadata": {},
   "source": [
    "## Cats vs Dog Classifier"
   ]
  },
  {
   "cell_type": "code",
   "execution_count": 1,
   "id": "482bc7b2",
   "metadata": {},
   "outputs": [],
   "source": [
    "#image = 'Desktop\\\\dataset\\\\cat_or_dog_1'"
   ]
  },
  {
   "cell_type": "code",
   "execution_count": 46,
   "id": "9948a83a",
   "metadata": {},
   "outputs": [],
   "source": [
    "from  keras_preprocessing.image  import ImageDataGenerator, array_to_img, img_to_array, load_img\n",
    "datagen = ImageDataGenerator(\n",
    "        rotation_range=40,\n",
    "        width_shift_range=0.2,\n",
    "        height_shift_range=0.2,\n",
    "        shear_range=0.2,\n",
    "        zoom_range=0.2,\n",
    "        horizontal_flip=True,\n",
    "        fill_mode='nearest')\n",
    "img = load_img(r'C:\\Users\\Lenovo\\Desktop\\my_dataset\\training_set\\training_set\\cats\\cat.1.jpg')\n",
    "x = img_to_array(img)\n",
    "x = x.reshape((1,) + x.shape)\n",
    "# and saves the results to the `preview/` directory\n",
    "i = 0\n",
    "for batch in datagen.flow(x, batch_size=1,\n",
    "                          save_to_dir='Desktop\\preview', save_prefix='cat', save_format='jpeg'):\n",
    "    i += 1\n",
    "    if i > 20:\n",
    "        break  "
   ]
  },
  {
   "cell_type": "code",
   "execution_count": null,
   "id": "50bd51b2",
   "metadata": {},
   "outputs": [],
   "source": []
  }
 ],
 "metadata": {
  "kernelspec": {
   "display_name": "Python 3 (ipykernel)",
   "language": "python",
   "name": "python3"
  },
  "language_info": {
   "codemirror_mode": {
    "name": "ipython",
    "version": 3
   },
   "file_extension": ".py",
   "mimetype": "text/x-python",
   "name": "python",
   "nbconvert_exporter": "python",
   "pygments_lexer": "ipython3",
   "version": "3.10.8"
  }
 },
 "nbformat": 4,
 "nbformat_minor": 5
}
